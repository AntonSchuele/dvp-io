{
 "cells": [
  {
   "cell_type": "markdown",
   "metadata": {},
   "source": [
    "# Spatialdata - A quick introduction \n",
    "\n",
    "This tutorial provides a quick overview over key functionalities of the spatialdata format. This includes \n",
    "\n",
    "1. Data modalities\n",
    "3. Plotting, and \n",
    "4. Visualization in napari image viewers. \n",
    "\n",
    "For detailed explanations and tutorials, check out the official [documentation](https://spatialdata.scverse.org/en/latest/index.html) \n"
   ]
  },
  {
   "cell_type": "markdown",
   "metadata": {},
   "source": [
    "## What is spatialdata? \n",
    "\n",
    "Spatialdata is a data framework for the joint and accessible storage of imaging data, annotations, and -omics data. This is extremely useful for spatialomics experiments, that commonly generate imaging data and (partially) paired -omics measurements. \n",
    "\n",
    "### Yet another dataformat? \n",
    "The power of spatialdata comes from the fact that it was designed from the start as integrated format of -omics and imaging data. The spatialdata format implements FAIR principles following (future versions of) the OME-Zarr storage/disk format. It further provides many convenient functionalities, including the overlay of imaging data and -omics measurements as static plots or in dynamic viewers (Napari), interfaces with -omics analysis tools, and deep learning frameworks. Spatialdata is performant and can handle large imaging, and -omics data, as well as complex annotations. \n",
    "\n",
    "Most notably, spatialdata makes it simple to keep track of cells or shapes of interest between modalities (imaging, annotation, -omics) \n",
    "\n",
    "It should be expected that spatialdata will become the de-facto standard for the analysis of spatial -omics data in the following years, at least in the Python ecosystem.  \n",
    "\n",
    "### Spatialdata and the DVP workflow \n",
    "Spatialdata implements key functionalities that are relevant in the DVP workflow. \n",
    "\n",
    "A typical DVP workflow might be outlined in the following. Note that spatialdata implements storage options for any step of the workflow and thus helps to keep track between modalities.  \n",
    "\n",
    "\\# | Step | Modality | Format | Spatial Element\n",
    "--- | --- | --- | --- | --- \n",
    "1 | Immunofluorescence/Pathology staining | Imaging | `.czi`, `.mrxs`, `.tiff` | `.images` \n",
    "2 | Cell segmentation | Annotation | cellpose, ... (e.g. `.tiff`) | `.shapes` vectors, `.labels` raster data\n",
    "3 | Selection of cells | Annotation/Featurization | scPortrait (`diverse`) | `.tables` | \n",
    "4 | Excision of cells | - | pyLMD (`.xml`) | - |\n",
    "5 | MS measurement | omics | alphaDIA, alphabase, DIANN (`diverse`) | `.tables` |\n"
   ]
  },
  {
   "cell_type": "markdown",
   "metadata": {},
   "source": [
    "## Getting started\n",
    "\n",
    "In the following, we will just explore the spatialdata format a little more. Note that you should also checkout the official documentation [documentation](https://spatialdata.scverse.org/en/latest/index.html), and especially the tutorials on the spatialdata format\n",
    "\n",
    "- [Tutorial 1](https://spatialdata.scverse.org/en/latest/tutorials/notebooks/notebooks/examples/models1.html)\n",
    "\n",
    " and  spatialelements\n",
    "\n",
    "- [Tutorial 2](https://spatialdata.scverse.org/en/latest/tutorials/notebooks/notebooks/examples/models2.html)"
   ]
  },
  {
   "cell_type": "markdown",
   "metadata": {},
   "source": [
    "## Modules"
   ]
  },
  {
   "cell_type": "code",
   "execution_count": null,
   "metadata": {},
   "outputs": [],
   "source": [
    "import spatialdata as sd\n",
    "from napari_spatialdata import Interactive"
   ]
  },
  {
   "cell_type": "markdown",
   "metadata": {},
   "source": [
    "## Data"
   ]
  },
  {
   "cell_type": "markdown",
   "metadata": {},
   "source": [
    "Let's get a built-in mock dataset from spatialdata"
   ]
  },
  {
   "cell_type": "code",
   "execution_count": null,
   "metadata": {},
   "outputs": [],
   "source": [
    "sdata = sd.datasets.blobs(extra_coord_system=\"second_coordinate_system\")"
   ]
  },
  {
   "cell_type": "markdown",
   "metadata": {},
   "source": [
    "## Read/Write \n",
    "\n",
    "Spatialdata has a native on-disk format, based on the `.zarr` standard, that can be used to store the data. De-facto, .zarr stores all data in a directory with subdirectories and specific metadata files. (.zattrs)\n",
    "\n",
    "\n",
    "```python\n",
    "# Write spatialdata \n",
    "sdata.write(path)\n",
    "\n",
    "# Read spatialdata \n",
    "sdata = sd.read_zarr(path)\n",
    "```"
   ]
  },
  {
   "cell_type": "markdown",
   "metadata": {},
   "source": [
    "## Access attributes\n",
    "\n",
    "Let's explore the structure of the spatialdata object. You can see that the dataset contains multiple attributes "
   ]
  },
  {
   "cell_type": "code",
   "execution_count": null,
   "metadata": {},
   "outputs": [],
   "source": [
    "sdata"
   ]
  },
  {
   "cell_type": "markdown",
   "metadata": {},
   "source": [
    "You can access these attributes as class attributes (output hidden)"
   ]
  },
  {
   "cell_type": "code",
   "execution_count": null,
   "metadata": {},
   "outputs": [],
   "source": [
    "%%capture\n",
    "# Access `images`\n",
    "sdata.images"
   ]
  },
  {
   "cell_type": "markdown",
   "metadata": {},
   "source": [
    "Their contents behave like a dictionary (output hidden)"
   ]
  },
  {
   "cell_type": "code",
   "execution_count": null,
   "metadata": {},
   "outputs": [],
   "source": [
    "%%capture\n",
    "# Access the `blobs_image` layer in `.images`\n",
    "sdata.images[\"blobs_image\"]"
   ]
  },
  {
   "cell_type": "markdown",
   "metadata": {},
   "source": [
    "## Images\n",
    "Images are stored as `xarray.DataArrays` (or, in case of pyramidal/multiscale images as `xarray.DataTree`). `xarray` supports the *lazy loading* of data via its `dask` interface, i.e. it only loads the parts of the image that are required for your computations. This allows users to store image data that is significanly larger than their memory.\n",
    "\n",
    "<!-- The `xarray` builds on NumPy and Pandas, but adds adds support for annotated indexes etc., making it especially useful for scientific and data-intensive applications. It works seamlessly with Dask for parallel and out-of-core computations, making it scalable for large datasets. -->"
   ]
  },
  {
   "cell_type": "code",
   "execution_count": null,
   "metadata": {},
   "outputs": [],
   "source": [
    "type(sdata.images[\"blobs_image\"])"
   ]
  },
  {
   "cell_type": "markdown",
   "metadata": {},
   "source": [
    "Images have the dimensions $(c, y, x)$, where $c$ is the number of channels (e.g $c=3$ for RGB images, $c=C$ for $C$ different fluorescence channels), $y$ the number of rows, and $x$ the number of columns. "
   ]
  },
  {
   "cell_type": "code",
   "execution_count": null,
   "metadata": {},
   "outputs": [],
   "source": [
    "sdata.images[\"blobs_image\"]"
   ]
  },
  {
   "cell_type": "markdown",
   "metadata": {},
   "source": [
    "#### Visualise\n",
    "Let's plot the image"
   ]
  },
  {
   "cell_type": "code",
   "execution_count": null,
   "metadata": {},
   "outputs": [],
   "source": [
    "sdata.pl.render_images(\"blobs_image\").pl.show(coordinate_systems=\"global\")"
   ]
  },
  {
   "cell_type": "markdown",
   "metadata": {},
   "source": [
    "## Shapes\n",
    "\n",
    "Shapes represent vectorized annotations. This means that each shape is defined as a set of points in a coordinate space. For example to define a small triangle as vectorized shape, you would define it with 4 points (3 unique points and 1 point to close the loop):\n",
    "\n",
    "(Pseudocode)\n",
    "```None\n",
    "triangle := {\n",
    "    Point1(0, 0), \n",
    "    Point2(1, 0),\n",
    "    Point3(0, 1),\n",
    "    Point4(0, 0)\n",
    "    }\n",
    "```\n",
    "\n",
    "Spatialdata stores such vectorized annotations in its `.shapes` attribute. The shapes attribute can store different types of shapes, including Polygons (arbitrary shapes) and Points. The shapes attribute can store multiple distinct and independent spatial elements. "
   ]
  },
  {
   "cell_type": "code",
   "execution_count": null,
   "metadata": {},
   "outputs": [],
   "source": [
    "# Access shapes (3 independent elements: 'blobs_circles', 'blobs_polygons', 'blobs_multipolygons')\n",
    "list(sdata.shapes.keys())"
   ]
  },
  {
   "cell_type": "markdown",
   "metadata": {},
   "source": [
    "Each spatialelement is represented as `geopandas.GeoDataFrame`"
   ]
  },
  {
   "cell_type": "code",
   "execution_count": null,
   "metadata": {},
   "outputs": [],
   "source": [
    "sdata.shapes[\"blobs_polygons\"]"
   ]
  },
  {
   "cell_type": "markdown",
   "metadata": {},
   "source": [
    "Let's plot the data "
   ]
  },
  {
   "cell_type": "code",
   "execution_count": null,
   "metadata": {},
   "outputs": [],
   "source": [
    "(\n",
    "    sdata.pl.render_shapes(\"blobs_circles\", alpha=0.5, color=\"#16A085\")  # green\n",
    "    .pl.render_shapes(\"blobs_polygons\", alpha=0.5, color=\"#2980B9\")  # blue\n",
    "    .pl.render_shapes(\"blobs_multipolygons\", alpha=0.5, color=\"#cccccc\")  # gray\n",
    "    .pl.show(coordinate_systems=\"global\")\n",
    ")"
   ]
  },
  {
   "cell_type": "markdown",
   "metadata": {},
   "source": [
    "#### Background - Shapes representation in spatialdata\n",
    "\n",
    "##### shapely\n",
    "\n",
    "spatialdata uses [`shapely`](https://shapely.readthedocs.io/en/stable/) to define the shapes. We can define our own shape"
   ]
  },
  {
   "cell_type": "code",
   "execution_count": null,
   "metadata": {},
   "outputs": [],
   "source": [
    "import shapely"
   ]
  },
  {
   "cell_type": "code",
   "execution_count": null,
   "metadata": {},
   "outputs": [],
   "source": [
    "triangle = shapely.Polygon([[0, 0], [1, 0], [0, 1], [0, 0]])\n",
    "triangle"
   ]
  },
  {
   "cell_type": "markdown",
   "metadata": {},
   "source": [
    "##### Geopandas \n",
    "Spatialdata stores multiple shape annotations as [`geopandas.GeoDataFrame`](https://geopandas.org). \n",
    "\n",
    "`geopandas.GeoDataFrame`s behave exactly like a pandas dataframe, except that they support spatial data in a designated `geopandas.GeoSeries` column (usually denoted with `geometry`)\n",
    " \n",
    "We can add the previously defined shape to a geopandas dataframe:"
   ]
  },
  {
   "cell_type": "code",
   "execution_count": null,
   "metadata": {},
   "outputs": [],
   "source": [
    "import geopandas as gpd"
   ]
  },
  {
   "cell_type": "code",
   "execution_count": null,
   "metadata": {},
   "outputs": [],
   "source": [
    "geodf = gpd.GeoDataFrame(data={\"name\": [\"triangle\", \"triangle2\"]}, geometry=[triangle, triangle])\n",
    "geodf"
   ]
  },
  {
   "cell_type": "code",
   "execution_count": null,
   "metadata": {},
   "outputs": [],
   "source": [
    "# Geopandas behaves like pandas. E.g. Select the first row in the geodataframe\n",
    "geodf.iloc[[0]]"
   ]
  },
  {
   "cell_type": "markdown",
   "metadata": {},
   "source": [
    "### Tables \n",
    "\n",
    "Tables are used in spatialdata to store omics modalities. Under the hood, tables are represented by an [`anndata`](https://anndata.readthedocs.io) object. Anndata is commonly used to store -omics data as it provides functionalities to jointly anlayse the actual measurements and associated metadata. \n",
    "\n",
    "#### !!! Tables support by DVP IO \n",
    "DVP IO does currently not provide reading functionalities for proteomics data. This feature will be introduced in early 2025"
   ]
  },
  {
   "cell_type": "code",
   "execution_count": null,
   "metadata": {},
   "outputs": [],
   "source": [
    "sdata.tables[\"table\"]"
   ]
  },
  {
   "cell_type": "markdown",
   "metadata": {},
   "source": [
    "Get observation-specific metadata "
   ]
  },
  {
   "cell_type": "code",
   "execution_count": null,
   "metadata": {},
   "outputs": [],
   "source": [
    "adata = sdata.tables[\"table\"]\n",
    "\n",
    "adata.obs.head()"
   ]
  },
  {
   "cell_type": "markdown",
   "metadata": {},
   "source": [
    "Get variable-specific metadata"
   ]
  },
  {
   "cell_type": "code",
   "execution_count": null,
   "metadata": {},
   "outputs": [],
   "source": [
    "adata.var.head()"
   ]
  },
  {
   "cell_type": "markdown",
   "metadata": {},
   "source": [
    "## Assigning values \n",
    "\n",
    "We can also add new attributes to a spatialdata object. To assure the compatibility of data with its format, `spatialdata` implements `spatialdata.models` classes, that define required attributes and processing rules for the different types of data. To assign a new object to spatialdata, we need to parse it with the suitable model class. For details, please see  \n",
    "\n",
    "- [Tutorial 2](https://spatialdata.scverse.org/en/latest/tutorials/notebooks/notebooks/examples/models2.html)"
   ]
  },
  {
   "cell_type": "markdown",
   "metadata": {},
   "source": [
    "### Example \n",
    "Say, that we would like to add another image to our spatialdata object. Let's define a small 100 px x 100px RGB image (all white) as array and pass it to spatialdata."
   ]
  },
  {
   "cell_type": "code",
   "execution_count": null,
   "metadata": {},
   "outputs": [],
   "source": [
    "import numpy as np\n",
    "\n",
    "from spatialdata.models import Image2DModel"
   ]
  },
  {
   "cell_type": "code",
   "execution_count": null,
   "metadata": {},
   "outputs": [],
   "source": [
    "# Define new image (all white, 3 channels [RGB])\n",
    "new_image = np.zeros(shape=(100, 100, 3))"
   ]
  },
  {
   "cell_type": "markdown",
   "metadata": {},
   "source": [
    "We cannot immediately assign this image to spatialdata. This will fail:"
   ]
  },
  {
   "cell_type": "code",
   "execution_count": null,
   "metadata": {},
   "outputs": [],
   "source": [
    "try:\n",
    "    # This code block fails\n",
    "    sdata[\"new_image\"] = new_image\n",
    "except TypeError as e:\n",
    "    print(f\"TypeError: {e}\")"
   ]
  },
  {
   "cell_type": "markdown",
   "metadata": {},
   "source": [
    "Instead, we first have to parse the image with the designated model class `spatialdata.models.Image2DModel`"
   ]
  },
  {
   "cell_type": "code",
   "execution_count": null,
   "metadata": {},
   "outputs": [],
   "source": [
    "new_image_parsed = Image2DModel.parse(\n",
    "    new_image,\n",
    "    dims=(\"x\", \"y\", \"c\"),  # define axes of image (x, y, channels)\n",
    "    c_coords=(\"r\", \"g\", \"b\"),  # optional: name channels\n",
    ")\n",
    "\n",
    "\n",
    "# Assign image to existing spatialdata, this works\n",
    "sdata.images[\"new_image\"] = new_image_parsed"
   ]
  },
  {
   "cell_type": "markdown",
   "metadata": {},
   "source": [
    "We have to proceed similarly for other attributes\n",
    "\n",
    "- .tables: `spatialdata.models.TableModel`\n",
    "- .shapes: `spatialdata.models.ShapesModel`"
   ]
  },
  {
   "cell_type": "markdown",
   "metadata": {},
   "source": [
    "## Plotting\n",
    "\n",
    "As showcased above, spatialdata implements plotting functionalities that allow you to visualize your omics dataset in static images. To do so, spatialdata relies on its extension package [`spatialdata_plot`](https://spatialdata.scverse.org/projects/plot/en/latest/). Make sure to check out its [documentation](https://spatialdata.scverse.org/projects/plot/en/latest/)"
   ]
  },
  {
   "cell_type": "code",
   "execution_count": null,
   "metadata": {},
   "outputs": [],
   "source": []
  },
  {
   "cell_type": "markdown",
   "metadata": {},
   "source": [
    "`spatialdata_plot` can be used by employing the `.pl` accessor, followed by a `render_<attribute>` command. \n",
    "To show the final plot, call `.pl.show()`"
   ]
  },
  {
   "cell_type": "code",
   "execution_count": null,
   "metadata": {},
   "outputs": [],
   "source": [
    "sdata.tables[\"table\"]"
   ]
  },
  {
   "cell_type": "code",
   "execution_count": null,
   "metadata": {},
   "outputs": [],
   "source": [
    "(sdata.pl.render_images().pl.render_shapes().pl.show(coordinate_systems=\"global\"))"
   ]
  },
  {
   "cell_type": "markdown",
   "metadata": {},
   "source": [
    "### Interactive viewing in Napari\n",
    "\n",
    "You can inspect the data in napari using the `napari_spatialdata` plugin. For details, take a look at the official [documentation](https://spatialdata.scverse.org/projects/napari/en/latest/index.html)"
   ]
  },
  {
   "cell_type": "code",
   "execution_count": null,
   "metadata": {},
   "outputs": [],
   "source": []
  },
  {
   "cell_type": "code",
   "execution_count": 41,
   "metadata": {},
   "outputs": [
    {
     "data": {
      "text/plain": [
       "SpatialData object\n",
       "├── Images\n",
       "│     ├── 'blobs_image': DataArray[cyx] (3, 512, 512)\n",
       "│     ├── 'blobs_multiscale_image': DataTree[cyx] (3, 512, 512), (3, 256, 256), (3, 128, 128)\n",
       "│     └── 'new_image': DataArray[cyx] (3, 100, 100)\n",
       "├── Labels\n",
       "│     ├── 'blobs_labels': DataArray[yx] (512, 512)\n",
       "│     └── 'blobs_multiscale_labels': DataTree[yx] (512, 512), (256, 256), (128, 128)\n",
       "├── Points\n",
       "│     └── 'blobs_points': DataFrame with shape: (<Delayed>, 4) (2D points)\n",
       "├── Shapes\n",
       "│     ├── 'blobs_circles': GeoDataFrame shape: (5, 2) (2D shapes)\n",
       "│     ├── 'blobs_multipolygons': GeoDataFrame shape: (2, 1) (2D shapes)\n",
       "│     └── 'blobs_polygons': GeoDataFrame shape: (5, 1) (2D shapes)\n",
       "└── Tables\n",
       "      └── 'table': AnnData (26, 3)\n",
       "with coordinate systems:\n",
       "    ▸ 'global', with elements:\n",
       "        blobs_image (Images), blobs_multiscale_image (Images), new_image (Images), blobs_labels (Labels), blobs_multiscale_labels (Labels), blobs_points (Points), blobs_circles (Shapes), blobs_multipolygons (Shapes), blobs_polygons (Shapes)\n",
       "    ▸ 'second_coordinate_system', with elements:\n",
       "        blobs_image (Images), blobs_multiscale_image (Images), blobs_labels (Labels), blobs_multiscale_labels (Labels), blobs_points (Points), blobs_circles (Shapes), blobs_multipolygons (Shapes), blobs_polygons (Shapes)"
      ]
     },
     "execution_count": 41,
     "metadata": {},
     "output_type": "execute_result"
    }
   ],
   "source": [
    "sdata"
   ]
  },
  {
   "cell_type": "code",
   "execution_count": 45,
   "metadata": {},
   "outputs": [],
   "source": [
    "import matplotlib.pyplot as plt"
   ]
  },
  {
   "cell_type": "code",
   "execution_count": null,
   "metadata": {},
   "outputs": [
    {
     "name": "stderr",
     "output_type": "stream",
     "text": [
      "/Users/lucas-diedrich/anaconda3/envs/dvpio/lib/python3.12/site-packages/anndata/_core/aligned_df.py:68: ImplicitModificationWarning: Transforming to str index.\n",
      "  warnings.warn(\"Transforming to str index.\", ImplicitModificationWarning)\n",
      "\u001b[32m2024-12-14 12:44:12.096\u001b[0m | \u001b[1mINFO    \u001b[0m | \u001b[36mnapari_spatialdata._view\u001b[0m:\u001b[36m_on_layer_update\u001b[0m:\u001b[36m357\u001b[0m - \u001b[1mUpdating layer.\u001b[0m\n",
      "\u001b[32m2024-12-14 12:44:12.099\u001b[0m | \u001b[1mINFO    \u001b[0m | \u001b[36mnapari_spatialdata._view\u001b[0m:\u001b[36m_on_layer_update\u001b[0m:\u001b[36m357\u001b[0m - \u001b[1mUpdating layer.\u001b[0m\n",
      "\u001b[32m2024-12-14 12:44:12.100\u001b[0m | \u001b[1mINFO    \u001b[0m | \u001b[36mnapari_spatialdata._view\u001b[0m:\u001b[36m_on_layer_update\u001b[0m:\u001b[36m357\u001b[0m - \u001b[1mUpdating layer.\u001b[0m\n",
      "\u001b[32m2024-12-14 12:44:12.162\u001b[0m | \u001b[1mINFO    \u001b[0m | \u001b[36mnapari_spatialdata._view\u001b[0m:\u001b[36m_on_layer_update\u001b[0m:\u001b[36m357\u001b[0m - \u001b[1mUpdating layer.\u001b[0m\n",
      "\u001b[32m2024-12-14 12:44:12.166\u001b[0m | \u001b[1mINFO    \u001b[0m | \u001b[36mnapari_spatialdata._view\u001b[0m:\u001b[36m_on_layer_update\u001b[0m:\u001b[36m357\u001b[0m - \u001b[1mUpdating layer.\u001b[0m\n",
      "\u001b[32m2024-12-14 12:44:12.261\u001b[0m | \u001b[1mINFO    \u001b[0m | \u001b[36mnapari_spatialdata._view\u001b[0m:\u001b[36m_on_layer_update\u001b[0m:\u001b[36m357\u001b[0m - \u001b[1mUpdating layer.\u001b[0m\n",
      "\u001b[32m2024-12-14 12:44:12.264\u001b[0m | \u001b[1mINFO    \u001b[0m | \u001b[36mnapari_spatialdata._view\u001b[0m:\u001b[36m_on_layer_update\u001b[0m:\u001b[36m357\u001b[0m - \u001b[1mUpdating layer.\u001b[0m\n",
      "\u001b[32m2024-12-14 12:44:12.270\u001b[0m | \u001b[1mINFO    \u001b[0m | \u001b[36mnapari_spatialdata._view\u001b[0m:\u001b[36m_on_layer_update\u001b[0m:\u001b[36m357\u001b[0m - \u001b[1mUpdating layer.\u001b[0m\n"
     ]
    },
    {
     "data": {
      "text/plain": [
       "(np.float64(-0.5), np.float64(3023.5), np.float64(2397.5), np.float64(-0.5))"
      ]
     },
     "execution_count": 47,
     "metadata": {},
     "output_type": "execute_result"
    },
    {
     "data": {
      "image/png": "[encoded data removed]",
      "text/plain": [
       "<Figure size 640x480 with 1 Axes>"
      ]
     },
     "metadata": {},
     "output_type": "display_data"
    }
   ],
   "source": [
    "# Start session\n",
    "interactive = Interactive(sdata)\n",
    "\n",
    "# # Basic viz:\n",
    "interactive.add_element(\"blobs_image\", element_coordinate_system=\"global\")\n",
    "interactive.add_element(\"blobs_circles\", element_coordinate_system=\"global\")\n",
    "interactive.add_element(\"blobs_labels\", element_coordinate_system=\"global\")\n",
    "\n",
    "\n",
    "# If you would like to explore it locally, uncomment the following line:\n",
    "# interactive.run()\n",
    "\n",
    "# Visualize screenshot\n",
    "screenshot = interactive.screenshot()\n",
    "plt.imshow(screenshot)\n",
    "plt.axis(\"off\")"
   ]
  }
 ],
 "metadata": {
  "kernelspec": {
   "display_name": "dvpio",
   "language": "python",
   "name": "python3"
  },
  "language_info": {
   "codemirror_mode": {
    "name": "ipython",
    "version": 3
   },
   "file_extension": ".py",
   "mimetype": "text/x-python",
   "name": "python",
   "nbconvert_exporter": "python",
   "pygments_lexer": "ipython3",
   "version": "3.12.8"
  }
 },
 "nbformat": 4,
 "nbformat_minor": 2
}
