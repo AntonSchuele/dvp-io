{
 "cells": [
  {
   "cell_type": "markdown",
   "metadata": {},
   "source": [
    "# Spatialdata - A quick introduction \n",
    "\n",
    "This tutorial provides a quick overview over key functionalities of the spatialdata format. This includes a) data loading storage and loading, b) alignment of modalities, c) plotting, and d) visualization in Napari image viewers. \n",
    "\n",
    "For detailed explanations and tutorials, visit the official documentation on \n",
    "\n",
    "- https://spatialdata.scverse.org/en/latest/index.html"
   ]
  },
  {
   "cell_type": "markdown",
   "metadata": {},
   "source": [
    "## What is spatialdata? \n",
    "\n",
    "Spatialdata is a data framework for the joint and accessible storage of imaging data, annotations, and -omics data. This is extremely useful for spatialomics experiments, that commonly generate imaging data and (partially) paired -omics measurements. \n",
    "\n",
    "### Yet another dataformat? \n",
    "\n",
    "### Spatialdata and the DVP workflow "
   ]
  },
  {
   "cell_type": "markdown",
   "metadata": {},
   "source": [
    "## Getting started"
   ]
  }
 ],
 "metadata": {
  "language_info": {
   "name": "python"
  }
 },
 "nbformat": 4,
 "nbformat_minor": 2
}
