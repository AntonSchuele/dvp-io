{
 "cells": [
  {
   "cell_type": "markdown",
   "metadata": {},
   "source": [
    "# Spatialdata - A quick introduction \n",
    "\n",
    "This tutorial provides a quick overview over key functionalities of the spatialdata format. This includes \n",
    "\n",
    "1. data loading storage and loading\n",
    "2. alignment of modalities,\n",
    "3. plotting, and \n",
    "4. visualization in napari image viewers. \n",
    "\n",
    "For detailed explanations and tutorials, check out the official [documentation](https://spatialdata.scverse.org/en/latest/index.html) \n"
   ]
  },
  {
   "cell_type": "markdown",
   "metadata": {},
   "source": [
    "## What is spatialdata? \n",
    "\n",
    "Spatialdata is a data framework for the joint and accessible storage of imaging data, annotations, and -omics data. This is extremely useful for spatialomics experiments, that commonly generate imaging data and (partially) paired -omics measurements. \n",
    "\n",
    "### Yet another dataformat? \n",
    "The power of spatialdata comes from the fact that it was designed from the start as integrated format of -omics and imaging data. The spatialdata format implements FAIR principles following (future versions of) the OME-Zarr storage/disk format. It further provides many convenient functionalities, including the overlay of imaging data and -omics measurements as static plots or in dynamic viewers (Napari), interfaces with -omics analysis tools, and deep learning frameworks. Spatialdata is performant and can handle large imaging, and -omics data, as well as complex annotations. \n",
    "\n",
    "Most notably, spatialdata makes it simple to keep track of cells or shapes of interest between modalities (imaging, annotation, -omics) \n",
    "\n",
    "It should be expected that spatialdata will become the de-facto standard for the analysis of spatial -omics data in the following years, at least in the Python ecosystem.  \n",
    "\n",
    "### Spatialdata and the DVP workflow \n",
    "Spatialdata implements key functionalities that are relevant in the DVP workflow. \n",
    "\n",
    "A typical DVP workflow might be outlined in the following. Note that spatialdata implements storage options for any step of the workflow and thus helps to keep track between modalities.  \n",
    "\n",
    "\\# | Step | Modality | Format | Spatialdata attribute \n",
    "--- | --- | --- | --- | --- \n",
    "1 | Immunofluorescence/Pathology staining | Imaging | `.czi`, `.mrxs`, `.tiff` | `.images` \n",
    "2 | Cell segmentation | Annotation | cellpose, ... (e.g. `.tiff`) | `.shapes` vectors, `.labels` raster data\n",
    "3 | Selection of cells | Annotation/Featurization | scPortrait (`diverse`) | `.tables` | \n",
    "4 | Excision of cells | - | pyLMD (`.xml`) | - |\n",
    "5 | MS measurement | omics | alphaDIA, alphabase, DIANN (`diverse`) | `.tables` |\n"
   ]
  },
  {
   "cell_type": "markdown",
   "metadata": {},
   "source": [
    "## Getting started\n",
    "\n",
    "In the following, we will just explore the spatialdata format a little more. Note that you should also checkout the official documentation [documentation](https://spatialdata.scverse.org/en/latest/index.html) \n"
   ]
  },
  {
   "cell_type": "code",
   "execution_count": null,
   "metadata": {
    "vscode": {
     "languageId": "plaintext"
    }
   },
   "outputs": [],
   "source": []
  }
 ],
 "metadata": {
  "language_info": {
   "name": "python"
  }
 },
 "nbformat": 4,
 "nbformat_minor": 2
}
